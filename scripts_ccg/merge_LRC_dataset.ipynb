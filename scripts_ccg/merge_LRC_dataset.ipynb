{
 "cells": [
  {
   "cell_type": "code",
   "execution_count": 44,
   "id": "5701116c-9e02-4490-afb4-adc5620aa108",
   "metadata": {},
   "outputs": [],
   "source": [
    "from datasets import load_dataset\n",
    "import pandas as pd\n",
    "import numpy as np\n",
    "\n",
    "bless = load_dataset(\"relbert/lexical_relation_classification\", \"BLESS\")\n",
    "cogA = load_dataset(\"relbert/lexical_relation_classification\", \"CogALexV\")\n",
    "Eval = load_dataset(\"relbert/lexical_relation_classification\", \"EVALution\")\n",
    "KHN = load_dataset(\"relbert/lexical_relation_classification\", \"K&H+N\")\n",
    "Root = load_dataset(\"relbert/lexical_relation_classification\", \"ROOT09\")\n",
    "\n",
    "data_dir = \"../datasets\""
   ]
  },
  {
   "cell_type": "markdown",
   "id": "eb675495",
   "metadata": {},
   "source": [
    "# Sampling and manual annotate"
   ]
  },
  {
   "cell_type": "code",
   "execution_count": 45,
   "id": "c577fbff",
   "metadata": {},
   "outputs": [],
   "source": [
    "annotate_dict = {1: \"disjoint\", 2: \"independent\", 3: \"reverseentailment\", 4: \"forwardentailment\", 5: \"disjoint\", 6: \"synonym\"}"
   ]
  },
  {
   "cell_type": "code",
   "execution_count": 46,
   "id": "ca6b15a0-ca2d-4410-81b9-384591e92884",
   "metadata": {},
   "outputs": [],
   "source": [
    "bless_train = bless[\"train\"].to_pandas()\n",
    "bless_test = bless[\"test\"].to_pandas()\n",
    "bless_val = bless[\"validation\"].to_pandas()"
   ]
  },
  {
   "cell_type": "code",
   "execution_count": 47,
   "id": "25644deb",
   "metadata": {},
   "outputs": [
    {
     "data": {
      "text/plain": [
       "relation  anno             \n",
       "attri     independent          10\n",
       "coord     disjoint             10\n",
       "event     independent           9\n",
       "          forwardentailment     1\n",
       "hyper     forwardentailment     8\n",
       "          disjoint              1\n",
       "          independent           1\n",
       "mero      independent          10\n",
       "random    independent           7\n",
       "          disjoint              3\n",
       "Name: count, dtype: int64"
      ]
     },
     "execution_count": 47,
     "metadata": {},
     "output_type": "execute_result"
    }
   ],
   "source": [
    "manual_label = bless_train.groupby(\"relation\").sample(10, random_state=42)\n",
    "\n",
    "copy_rel = manual_label.drop(\"relation\", axis=1)\n",
    "copy_rel = copy_rel.sample(frac=1, random_state=42)\n",
    "# copy_rel[\"anno\"] = \"\"\n",
    "# copy_rel.to_csv(\"test/anno_bless.csv\")\n",
    "# ------------\n",
    "copy_rel = pd.read_csv(f\"{data_dir}/hand_annotated/bless_anno.csv\", index_col=0)\n",
    "copy_rel[\"anno\"].replace(annotate_dict, inplace=True)\n",
    "merged = manual_label.merge(copy_rel, left_on=['head', 'tail'], right_on=['head', 'tail'])\n",
    "with pd.option_context('display.max_rows', 100, 'display.max_columns', 10):\n",
    "    # display(merged.drop('relation', axis=1).sample(frac=1, random_state=42))\n",
    "    # display(merged)\n",
    "    pass\n",
    "merged.groupby(\"relation\")[\"anno\"].value_counts()\n",
    "\n"
   ]
  },
  {
   "cell_type": "code",
   "execution_count": 48,
   "id": "7dc8bc7c",
   "metadata": {},
   "outputs": [
    {
     "data": {
      "text/plain": [
       "relation_new\n",
       "independent          5000\n",
       "disjoint             2529\n",
       "forwardentailment     924\n",
       "Name: count, dtype: int64"
      ]
     },
     "execution_count": 48,
     "metadata": {},
     "output_type": "execute_result"
    }
   ],
   "source": [
    "# disjoint, forwardentailment, reverseentailment, independent, alternation, synonym\n",
    "bless_relation_dict = {\n",
    "    \"attri\":\"independent\",\n",
    "    \"coord\":\"disjoint\",\n",
    "    \"event\":\"independent\",\n",
    "    \"hyper\":\"forwardentailment\",\n",
    "    \"mero\":\"independent\",\n",
    "    \"random\": \"independent\",\n",
    "    }\n",
    "                       \n",
    "\n",
    "for i in [bless_train, bless_test, bless_val]:\n",
    "    i.name = \"bless\" \n",
    "    i_lower = i[\"relation\"].str.lower()\n",
    "    i[\"relation_new\"] = i_lower.replace(bless_relation_dict)\n",
    "\n",
    "# lower to 7.5k\n",
    "select_idx = np.where(bless_train[\"relation_new\"] == \"independent\")[0]\n",
    "split_amount = 5000\n",
    "frac_amount = 1 if split_amount > len(select_idx) else 1 - split_amount/len(select_idx)\n",
    "\n",
    "for i in [bless_train, bless_test, bless_val]:\n",
    "    sample_disjoint = i.loc[np.where(i[\"relation_new\"] == \"independent\")[0]].sample(frac=frac_amount, random_state=42).index\n",
    "    i.drop(sample_disjoint, inplace=True)\n",
    "    \n",
    "bless_train[\"relation_new\"].value_counts()"
   ]
  },
  {
   "cell_type": "markdown",
   "id": "1cae0387",
   "metadata": {},
   "source": [
    "# Sampling COG"
   ]
  },
  {
   "cell_type": "code",
   "execution_count": 49,
   "id": "7bc2cfe8-f293-459a-8b73-91ac2a527ed8",
   "metadata": {},
   "outputs": [],
   "source": [
    "cogA_train = cogA[\"train\"].to_pandas()\n",
    "cogA_test = cogA[\"test\"].to_pandas()\n"
   ]
  },
  {
   "cell_type": "code",
   "execution_count": 50,
   "id": "5a92fe71",
   "metadata": {},
   "outputs": [
    {
     "data": {
      "text/plain": [
       "relation  anno             \n",
       "ANT       disjoint             10\n",
       "HYPER     forwardentailment     8\n",
       "          independent           1\n",
       "          synonym               1\n",
       "PART_OF   independent           7\n",
       "          disjoint              2\n",
       "          reverseentailment     1\n",
       "RANDOM    disjoint              6\n",
       "          independent           4\n",
       "SYN       synonym               9\n",
       "          forwardentailment     1\n",
       "Name: count, dtype: int64"
      ]
     },
     "execution_count": 50,
     "metadata": {},
     "output_type": "execute_result"
    }
   ],
   "source": [
    "manual_label = cogA_train.groupby(\"relation\").sample(10, random_state=42)\n",
    "\n",
    "copy_rel = manual_label.drop(\"relation\", axis=1)\n",
    "copy_rel = copy_rel.sample(frac=1, random_state=42)\n",
    "# copy_rel[\"anno\"] = \"\"\n",
    "# copy_rel.to_csv(\"test/anno_cog.csv\")\n",
    "# ------------\n",
    "copy_rel = pd.read_csv(f\"{data_dir}/hand_annotated/anno_cog.csv\", index_col=0)\n",
    "copy_rel[\"anno\"].replace(annotate_dict, inplace=True)\n",
    "merged = manual_label.merge(copy_rel, left_on=['head', 'tail'], right_on=['head', 'tail'])\n",
    "with pd.option_context('display.max_rows', 100, 'display.max_columns', 10):\n",
    "    # display(merged.drop('relation', axis=1).sample(frac=1, random_state=42))\n",
    "    # display(merged)\n",
    "    pass\n",
    "merged.groupby(\"relation\")[\"anno\"].value_counts()\n"
   ]
  },
  {
   "cell_type": "code",
   "execution_count": 51,
   "id": "80c5f44c",
   "metadata": {},
   "outputs": [
    {
     "data": {
      "text/plain": [
       "relation_new\n",
       "disjoint             2469\n",
       "forwardentailment     255\n",
       "synonym               167\n",
       "independent           163\n",
       "Name: count, dtype: int64"
      ]
     },
     "execution_count": 51,
     "metadata": {},
     "output_type": "execute_result"
    }
   ],
   "source": [
    "coga_relation_dict = {\n",
    "    \"ant\": \"disjoint\",\n",
    "    \"hyper\":\"forwardentailment\",\n",
    "    \"part_of\": \"independent\",\n",
    "    \"random\": \"disjoint\", \n",
    "    \"syn\": \"synonym\",\n",
    "    }\n",
    "\n",
    "for i in [cogA_train, cogA_test]:\n",
    "    i.name = \"cog\"\n",
    "    i_lower = i[\"relation\"].str.lower()\n",
    "    i[\"relation_new\"] = i_lower.replace(coga_relation_dict)\n",
    "cogA_train[\"relation_new\"].value_counts()"
   ]
  },
  {
   "cell_type": "markdown",
   "id": "bccb22a2",
   "metadata": {},
   "source": [
    "# REL eval"
   ]
  },
  {
   "cell_type": "code",
   "execution_count": 52,
   "id": "42a43393-637c-4dd2-b58c-93e2830826ea",
   "metadata": {},
   "outputs": [],
   "source": [
    "eval_train = Eval[\"train\"].to_pandas()\n",
    "eval_test = Eval[\"test\"].to_pandas()\n",
    "eval_val = Eval[\"validation\"].to_pandas()\n"
   ]
  },
  {
   "cell_type": "code",
   "execution_count": 53,
   "id": "67c88d6f",
   "metadata": {},
   "outputs": [
    {
     "data": {
      "text/plain": [
       "relation     anno             \n",
       "Antonym      disjoint              7\n",
       "             independent           2\n",
       "             reverseentailment     1\n",
       "HasA         independent           8\n",
       "             reverseentailment     1\n",
       "             disjoint              1\n",
       "HasProperty  independent           8\n",
       "             forwardentailment     1\n",
       "             reverseentailment     1\n",
       "IsA          independent           4\n",
       "             disjoint              3\n",
       "             forwardentailment     2\n",
       "             synonym               1\n",
       "MadeOf       independent          10\n",
       "PartOf       independent           7\n",
       "             disjoint              2\n",
       "             forwardentailment     1\n",
       "Synonym      synonym               5\n",
       "             independent           4\n",
       "             forwardentailment     1\n",
       "Name: count, dtype: int64"
      ]
     },
     "execution_count": 53,
     "metadata": {},
     "output_type": "execute_result"
    }
   ],
   "source": [
    "manual_label = eval_train.groupby(\"relation\").sample(10, random_state=42)\n",
    "\n",
    "copy_rel = manual_label.drop(\"relation\", axis=1)\n",
    "copy_rel = copy_rel.sample(frac=1, random_state=42)\n",
    "# copy_rel[\"anno\"] = \"\"\n",
    "# copy_rel.to_csv(\"test/anno_eval.csv\")\n",
    "# ------------\n",
    "copy_rel = pd.read_csv(f\"{data_dir}/hand_annotated/anno_eval.csv\", index_col=0)\n",
    "copy_rel[\"anno\"].replace(annotate_dict, inplace=True)\n",
    "merged = manual_label.merge(copy_rel, left_on=['head', 'tail'], right_on=['head', 'tail'])\n",
    "with pd.option_context('display.max_rows', 100, 'display.max_columns', 10):\n",
    "    # display(merged.drop('relation', axis=1).sample(frac=1, random_state=42))\n",
    "    # display(merged)\n",
    "    pass\n",
    "merged.groupby(\"relation\")[\"anno\"].value_counts()\n"
   ]
  },
  {
   "cell_type": "code",
   "execution_count": 54,
   "id": "ce3eef54",
   "metadata": {},
   "outputs": [
    {
     "data": {
      "text/plain": [
       "relation_new\n",
       "independent    1979\n",
       "disjoint       1095\n",
       "synonym         759\n",
       "Name: count, dtype: int64"
      ]
     },
     "execution_count": 54,
     "metadata": {},
     "output_type": "execute_result"
    }
   ],
   "source": [
    "eval_relation_dict = {\n",
    "    \"antonym\": \"disjoint\",\n",
    "    \"hasa\": \"independent\",\n",
    "    \"hasproperty\": \"independent\",\n",
    "    \"isa\": \"independent\",\n",
    "    \"madeof\": \"independent\",\n",
    "    \"partof\": \"independent\",\n",
    "    \"synonym\": \"synonym\",\n",
    "    }\n",
    "\n",
    "for i in [eval_train, eval_test, eval_val]:\n",
    "    i.name = \"eval\"\n",
    "    # i.drop(np.where(i[\"relation\"].str.lower() == \"antonym\")[0], inplace=True)\n",
    "    i.drop(np.where(i[\"relation\"].str.lower() == \"isa\")[0], inplace=True)\n",
    "    i_lower = i[\"relation\"].str.lower()\n",
    "    i[\"relation_new\"] = i_lower.replace(eval_relation_dict)\n",
    "    \n",
    "eval_train[\"relation_new\"].value_counts()"
   ]
  },
  {
   "cell_type": "markdown",
   "id": "c9748daf",
   "metadata": {},
   "source": [
    "# KHN"
   ]
  },
  {
   "cell_type": "code",
   "execution_count": 55,
   "id": "14b43cff-d62a-4bde-9171-b893c2514420",
   "metadata": {},
   "outputs": [],
   "source": [
    "KHN_train = KHN[\"train\"].to_pandas()\n",
    "KHN_test = KHN[\"test\"].to_pandas()\n",
    "KHN_val = KHN[\"validation\"].to_pandas()\n"
   ]
  },
  {
   "cell_type": "code",
   "execution_count": 56,
   "id": "4c0278d2",
   "metadata": {},
   "outputs": [
    {
     "data": {
      "text/plain": [
       "relation  anno             \n",
       "false     disjoint             10\n",
       "hypo      forwardentailment    10\n",
       "mero      disjoint              9\n",
       "          independent           1\n",
       "sibl      disjoint             10\n",
       "Name: count, dtype: int64"
      ]
     },
     "execution_count": 56,
     "metadata": {},
     "output_type": "execute_result"
    }
   ],
   "source": [
    "manual_label = KHN_train.groupby(\"relation\").sample(10, random_state=42)\n",
    "\n",
    "copy_rel = manual_label.drop(\"relation\", axis=1)\n",
    "copy_rel = copy_rel.sample(frac=1, random_state=42)\n",
    "# copy_rel[\"anno\"] = \"\"\n",
    "# copy_rel.to_csv(\"test/anno_KHN.csv\")\n",
    "# ------------\n",
    "copy_rel = pd.read_csv(f\"{data_dir}/hand_annotated/anno_KHN.csv\", index_col=0)\n",
    "copy_rel[\"anno\"].replace(annotate_dict, inplace=True)\n",
    "merged = manual_label.merge(copy_rel, left_on=['head', 'tail'], right_on=['head', 'tail'])\n",
    "with pd.option_context('display.max_rows', 100, 'display.max_columns', 10):\n",
    "    # display(merged.drop('relation', axis=1).sample(frac=1, random_state=42))\n",
    "    # display(merged)\n",
    "    pass\n",
    "merged.groupby(\"relation\")[\"anno\"].value_counts()\n"
   ]
  },
  {
   "cell_type": "code",
   "execution_count": 57,
   "id": "0b4a753d",
   "metadata": {},
   "outputs": [
    {
     "name": "stdout",
     "output_type": "stream",
     "text": [
      "0.8656202967103849\n",
      "relation_new\n",
      "disjoint             5000\n",
      "forwardentailment    3048\n",
      "Name: count, dtype: int64\n"
     ]
    }
   ],
   "source": [
    "khn_relation_dict = {\n",
    "    \"false\": \"disjoint\",\n",
    "    \"hypo\": \"forwardentailment\",\n",
    "    \"mero\": \"disjoint\",\n",
    "    \"sibl\": \"disjoint\",\n",
    "    }\n",
    "\n",
    "\n",
    "for i in [KHN_train, KHN_test, KHN_val]:\n",
    "    i.name = \"khn\"\n",
    "    i_lower = i[\"relation\"].str.lower()\n",
    "    i[\"relation_new\"] = i_lower.replace(khn_relation_dict)\n",
    "\n",
    "\n",
    "# lower to 7.5k\n",
    "select_idx = np.where(KHN_train[\"relation_new\"] == \"disjoint\")[0]\n",
    "split_amount = 5000\n",
    "frac_amount = 1 if split_amount > len(select_idx) else 1 - split_amount/len(select_idx)\n",
    "print(frac_amount)\n",
    "\n",
    "for i in [KHN_train, KHN_test, KHN_val]:\n",
    "    # lower to 7.5k\n",
    "    sample_disjoint = i.loc[np.where(i[\"relation_new\"] == \"disjoint\")[0]].sample(frac=frac_amount, random_state=42).index\n",
    "    i.drop(sample_disjoint, inplace=True)\n",
    "    \n",
    "print(KHN_train[\"relation_new\"].value_counts())\n",
    "\n",
    "\n"
   ]
  },
  {
   "cell_type": "markdown",
   "id": "00ad1212",
   "metadata": {},
   "source": [
    "# rel ROOT"
   ]
  },
  {
   "cell_type": "code",
   "execution_count": 58,
   "id": "e510e9c3-f66b-4985-80c8-df437ecd2add",
   "metadata": {},
   "outputs": [],
   "source": [
    "root_train = Root[\"train\"].to_pandas()\n",
    "root_test = Root[\"test\"].to_pandas()\n",
    "root_val = Root[\"validation\"].to_pandas()"
   ]
  },
  {
   "cell_type": "code",
   "execution_count": 59,
   "id": "7e374a41",
   "metadata": {},
   "outputs": [
    {
     "data": {
      "text/plain": [
       "relation  anno             \n",
       "COORD     disjoint             9\n",
       "          independent          1\n",
       "HYPER     forwardentailment    5\n",
       "          independent          3\n",
       "          disjoint             1\n",
       "          synonym              1\n",
       "RANDOM    disjoint             8\n",
       "          independent          2\n",
       "Name: count, dtype: int64"
      ]
     },
     "execution_count": 59,
     "metadata": {},
     "output_type": "execute_result"
    }
   ],
   "source": [
    "manual_label = root_train.groupby(\"relation\").sample(10, random_state=42)\n",
    "\n",
    "copy_rel = manual_label.drop(\"relation\", axis=1)\n",
    "copy_rel = copy_rel.sample(frac=1, random_state=42)\n",
    "# copy_rel[\"anno\"] = \"\"\n",
    "# copy_rel.to_csv(\"test/anno_root.csv\")\n",
    "# ------------\n",
    "copy_rel = pd.read_csv(f\"{data_dir}/hand_annotated/anno_root.csv\", index_col=0)\n",
    "copy_rel[\"anno\"].replace(annotate_dict, inplace=True)\n",
    "merged = manual_label.merge(copy_rel, left_on=['head', 'tail'], right_on=['head', 'tail'])\n",
    "with pd.option_context('display.max_rows', 100, 'display.max_columns', 10):\n",
    "    # display(merged.drop('relation', axis=1).sample(frac=1, random_state=42))\n",
    "    # display(merged)\n",
    "    pass\n",
    "merged.groupby(\"relation\")[\"anno\"].value_counts()"
   ]
  },
  {
   "cell_type": "code",
   "execution_count": 60,
   "id": "cd6ac663",
   "metadata": {},
   "outputs": [
    {
     "data": {
      "text/plain": [
       "relation_new\n",
       "forwardentailment    2232\n",
       "Name: count, dtype: int64"
      ]
     },
     "execution_count": 60,
     "metadata": {},
     "output_type": "execute_result"
    }
   ],
   "source": [
    "root_relation_dict = {\n",
    "    \"coord\": \"disjoint\",\n",
    "    \"hyper\": \"forwardentailment\",\n",
    "    \"random\": \"disjoint\",\n",
    "    }\n",
    "\n",
    "for i in [root_train, root_test, root_val]:\n",
    "    i.name = \"root\"\n",
    "    i_lower = i[\"relation\"].str.lower()\n",
    "    i[\"relation_new\"] = i_lower.replace(root_relation_dict)\n",
    "\n",
    "    # remove disjoint\n",
    "    i.drop(np.where(i[\"relation_new\"] == \"disjoint\")[0], inplace=True)\n",
    "root_train[\"relation_new\"].value_counts()"
   ]
  },
  {
   "cell_type": "code",
   "execution_count": 61,
   "id": "248a182d-c8a9-4e97-bfa7-1e9c2dca0a8d",
   "metadata": {},
   "outputs": [],
   "source": [
    "train = [bless_train, cogA_train, eval_train, KHN_train, root_train]\n",
    "test = [bless_test, cogA_test, eval_test, KHN_test, root_test]\n",
    "val = [bless_val, eval_val, KHN_val, root_val]\n",
    "\n",
    "train = [bless_train, cogA_train, eval_train, KHN_train, root_train]\n",
    "test = [bless_test, cogA_test, eval_test, KHN_test, root_test]\n",
    "val = [bless_val, eval_val, KHN_val, root_val]"
   ]
  },
  {
   "cell_type": "code",
   "execution_count": 62,
   "id": "28791bda",
   "metadata": {},
   "outputs": [],
   "source": [
    "import warnings\n",
    "warnings.filterwarnings(\"ignore\")"
   ]
  },
  {
   "cell_type": "code",
   "execution_count": 63,
   "id": "5bbd474d",
   "metadata": {},
   "outputs": [
    {
     "data": {
      "text/html": [
       "<div>\n",
       "<style scoped>\n",
       "    .dataframe tbody tr th:only-of-type {\n",
       "        vertical-align: middle;\n",
       "    }\n",
       "\n",
       "    .dataframe tbody tr th {\n",
       "        vertical-align: top;\n",
       "    }\n",
       "\n",
       "    .dataframe thead th {\n",
       "        text-align: right;\n",
       "    }\n",
       "</style>\n",
       "<table border=\"1\" class=\"dataframe\">\n",
       "  <thead>\n",
       "    <tr style=\"text-align: right;\">\n",
       "      <th></th>\n",
       "      <th>head</th>\n",
       "      <th>tail</th>\n",
       "      <th>relation</th>\n",
       "      <th>relation_new</th>\n",
       "    </tr>\n",
       "  </thead>\n",
       "  <tbody>\n",
       "    <tr>\n",
       "      <th>1</th>\n",
       "      <td>bottle</td>\n",
       "      <td>contain</td>\n",
       "      <td>event</td>\n",
       "      <td>independent</td>\n",
       "    </tr>\n",
       "    <tr>\n",
       "      <th>4</th>\n",
       "      <td>mackerel</td>\n",
       "      <td>retire</td>\n",
       "      <td>random</td>\n",
       "      <td>independent</td>\n",
       "    </tr>\n",
       "    <tr>\n",
       "      <th>5</th>\n",
       "      <td>penguin</td>\n",
       "      <td>inhabit</td>\n",
       "      <td>event</td>\n",
       "      <td>independent</td>\n",
       "    </tr>\n",
       "    <tr>\n",
       "      <th>6</th>\n",
       "      <td>spoon</td>\n",
       "      <td>libertarianism</td>\n",
       "      <td>random</td>\n",
       "      <td>independent</td>\n",
       "    </tr>\n",
       "    <tr>\n",
       "      <th>7</th>\n",
       "      <td>peach</td>\n",
       "      <td>lemon</td>\n",
       "      <td>coord</td>\n",
       "      <td>disjoint</td>\n",
       "    </tr>\n",
       "    <tr>\n",
       "      <th>...</th>\n",
       "      <td>...</td>\n",
       "      <td>...</td>\n",
       "      <td>...</td>\n",
       "      <td>...</td>\n",
       "    </tr>\n",
       "    <tr>\n",
       "      <th>18575</th>\n",
       "      <td>spinach</td>\n",
       "      <td>food</td>\n",
       "      <td>hyper</td>\n",
       "      <td>forwardentailment</td>\n",
       "    </tr>\n",
       "    <tr>\n",
       "      <th>18576</th>\n",
       "      <td>cannon</td>\n",
       "      <td>ball</td>\n",
       "      <td>mero</td>\n",
       "      <td>independent</td>\n",
       "    </tr>\n",
       "    <tr>\n",
       "      <th>18577</th>\n",
       "      <td>hawk</td>\n",
       "      <td>lay</td>\n",
       "      <td>event</td>\n",
       "      <td>independent</td>\n",
       "    </tr>\n",
       "    <tr>\n",
       "      <th>18578</th>\n",
       "      <td>rat</td>\n",
       "      <td>goat</td>\n",
       "      <td>coord</td>\n",
       "      <td>disjoint</td>\n",
       "    </tr>\n",
       "    <tr>\n",
       "      <th>18581</th>\n",
       "      <td>vest</td>\n",
       "      <td>hat</td>\n",
       "      <td>coord</td>\n",
       "      <td>disjoint</td>\n",
       "    </tr>\n",
       "  </tbody>\n",
       "</table>\n",
       "<p>8453 rows × 4 columns</p>\n",
       "</div>"
      ],
      "text/plain": [
       "           head            tail relation       relation_new\n",
       "1        bottle         contain    event        independent\n",
       "4      mackerel          retire   random        independent\n",
       "5       penguin         inhabit    event        independent\n",
       "6         spoon  libertarianism   random        independent\n",
       "7         peach           lemon    coord           disjoint\n",
       "...         ...             ...      ...                ...\n",
       "18575   spinach            food    hyper  forwardentailment\n",
       "18576    cannon            ball     mero        independent\n",
       "18577      hawk             lay    event        independent\n",
       "18578       rat            goat    coord           disjoint\n",
       "18581      vest             hat    coord           disjoint\n",
       "\n",
       "[8453 rows x 4 columns]"
      ]
     },
     "execution_count": 63,
     "metadata": {},
     "output_type": "execute_result"
    }
   ],
   "source": [
    "bless_train"
   ]
  },
  {
   "cell_type": "code",
   "execution_count": 69,
   "id": "d01d3890-784e-4d8d-b5a1-090d744ef4c8",
   "metadata": {},
   "outputs": [],
   "source": [
    "\n",
    "from copy import deepcopy\n",
    "import os\n",
    "\n",
    "seed = 1\n",
    "\n",
    "def fix_data(inp_df, data_name, txt=\"\", print_debug=True):\n",
    "    import numpy as np\n",
    "    rng = np.random.default_rng(seed=42)\n",
    "\n",
    "    os.makedirs(f\"../datasets/{data_name}\", exist_ok=True)    \n",
    "    \n",
    "    together = pd.DataFrame(columns=[\"head\", \"tail\", \"relation\"])\n",
    "    for counter, x in enumerate(inp_df):\n",
    "        x[\"meta\"] = x[\"relation\"].apply(lambda a: f\"{x.name} | {a}\")\n",
    "        x_copy = deepcopy(x)\n",
    "        \n",
    "        # ----------- add both directions\n",
    "        x_copy[[\"head\", \"tail\"]] = x_copy[[\"tail\", \"head\"]]\n",
    "        x_copy[\"relation_new\"] = x_copy[\"relation_new\"].replace(\"forwardentailment\", \"reverseentailment\")\n",
    "        # ------------\n",
    "        together = pd.concat([together, x, x_copy], join=\"outer\")\n",
    "\n",
    "    together.drop_duplicates(inplace=True, subset=[\"head\", \"tail\"])\n",
    "    together.reset_index(drop=True, inplace=True)\n",
    "\n",
    "    if print_debug:\n",
    "        print(together[\"relation_new\"].value_counts())\n",
    "\n",
    "    # FIXME\n",
    "    \n",
    "    clean = together.sample(frac=1, random_state=0).reset_index(drop=True)\n",
    "    clean.replace(\"null\", \"Null\", inplace=True)\n",
    "    clean.drop([\"relation\"], axis=1, inplace=True)\n",
    "    clean.drop_duplicates(inplace=True)\n",
    "    clean.reset_index(drop=True, inplace=True)\n",
    "    clean.to_csv(f\"{data_dir}/{data_name}/{txt}.tsv\", index = False, header=None, sep=\"\\t\")\n",
    "    \n",
    "    return together\n",
    "   "
   ]
  },
  {
   "cell_type": "code",
   "execution_count": 71,
   "id": "9810a842-1982-4b44-ae29-378d9d5a497a",
   "metadata": {},
   "outputs": [
    {
     "name": "stdout",
     "output_type": "stream",
     "text": [
      "relation_new\n",
      "disjoint             20251\n",
      "independent          13637\n",
      "forwardentailment     5541\n",
      "reverseentailment     5539\n",
      "synonym               1521\n",
      "Name: count, dtype: int64\n",
      "------------------------------\n",
      "relation_new\n",
      "disjoint             1196\n",
      "independent          1006\n",
      "forwardentailment     413\n",
      "reverseentailment     413\n",
      "synonym               100\n",
      "Name: count, dtype: int64\n",
      "------------------------------\n",
      "relation_new\n",
      "disjoint             12599\n",
      "independent           5207\n",
      "forwardentailment     2395\n",
      "reverseentailment     2385\n",
      "synonym                875\n",
      "Name: count, dtype: int64\n"
     ]
    }
   ],
   "source": [
    "train_big = fix_data(train, \"merged_LRC_words\", \"train\")\n",
    "print(\"---\" * 10)\n",
    "val_big = fix_data(val, \"merged_LRC_words\", \"validation\")\n",
    "print(\"---\" * 10)\n",
    "test_big = fix_data(test, \"merged_LRC_words\", \"test\")\n",
    "\n",
    "# # ABALATION\n",
    "# for i in [\"bless\", \"cog\", \"eval\", \"root\", \"khn\"]:\n",
    "#     train_new = filter(lambda data: data.name != i, train)\n",
    "#     test_new = filter(lambda data: data.name != i, test)\n",
    "#     val_new = filter(lambda data: data.name != i, val)\n",
    "\n",
    "#     train_big = fix_data(train_new, f\"ABALATION/{i}\", \"train\", print_debug=False)\n",
    "#     val_big = fix_data(val_new, f\"ABALATION/{i}\", \"validation\", print_debug=False)\n",
    "#     test_big = fix_data(test_new, f\"ABALATION/{i}\", \"test\", print_debug=False)\n"
   ]
  },
  {
   "cell_type": "code",
   "execution_count": null,
   "id": "22f63717",
   "metadata": {},
   "outputs": [
    {
     "data": {
      "text/html": [
       "<div>\n",
       "<style scoped>\n",
       "    .dataframe tbody tr th:only-of-type {\n",
       "        vertical-align: middle;\n",
       "    }\n",
       "\n",
       "    .dataframe tbody tr th {\n",
       "        vertical-align: top;\n",
       "    }\n",
       "\n",
       "    .dataframe thead th {\n",
       "        text-align: right;\n",
       "    }\n",
       "</style>\n",
       "<table border=\"1\" class=\"dataframe\">\n",
       "  <thead>\n",
       "    <tr style=\"text-align: right;\">\n",
       "      <th></th>\n",
       "      <th>head</th>\n",
       "      <th>tail</th>\n",
       "      <th>relation</th>\n",
       "      <th>relation_new</th>\n",
       "      <th>meta</th>\n",
       "    </tr>\n",
       "  </thead>\n",
       "  <tbody>\n",
       "    <tr>\n",
       "      <th>0</th>\n",
       "      <td>bottle</td>\n",
       "      <td>contain</td>\n",
       "      <td>event</td>\n",
       "      <td>independent</td>\n",
       "      <td>bless | event</td>\n",
       "    </tr>\n",
       "    <tr>\n",
       "      <th>1</th>\n",
       "      <td>mackerel</td>\n",
       "      <td>retire</td>\n",
       "      <td>random</td>\n",
       "      <td>independent</td>\n",
       "      <td>bless | random</td>\n",
       "    </tr>\n",
       "    <tr>\n",
       "      <th>2</th>\n",
       "      <td>penguin</td>\n",
       "      <td>inhabit</td>\n",
       "      <td>event</td>\n",
       "      <td>independent</td>\n",
       "      <td>bless | event</td>\n",
       "    </tr>\n",
       "    <tr>\n",
       "      <th>3</th>\n",
       "      <td>spoon</td>\n",
       "      <td>libertarianism</td>\n",
       "      <td>random</td>\n",
       "      <td>independent</td>\n",
       "      <td>bless | random</td>\n",
       "    </tr>\n",
       "    <tr>\n",
       "      <th>4</th>\n",
       "      <td>peach</td>\n",
       "      <td>lemon</td>\n",
       "      <td>coord</td>\n",
       "      <td>disjoint</td>\n",
       "      <td>bless | coord</td>\n",
       "    </tr>\n",
       "    <tr>\n",
       "      <th>...</th>\n",
       "      <td>...</td>\n",
       "      <td>...</td>\n",
       "      <td>...</td>\n",
       "      <td>...</td>\n",
       "      <td>...</td>\n",
       "    </tr>\n",
       "    <tr>\n",
       "      <th>46484</th>\n",
       "      <td>improve</td>\n",
       "      <td>hone</td>\n",
       "      <td>HYPER</td>\n",
       "      <td>reverseentailment</td>\n",
       "      <td>root | HYPER</td>\n",
       "    </tr>\n",
       "    <tr>\n",
       "      <th>46485</th>\n",
       "      <td>kid</td>\n",
       "      <td>girl</td>\n",
       "      <td>HYPER</td>\n",
       "      <td>reverseentailment</td>\n",
       "      <td>root | HYPER</td>\n",
       "    </tr>\n",
       "    <tr>\n",
       "      <th>46486</th>\n",
       "      <td>travel</td>\n",
       "      <td>drive</td>\n",
       "      <td>HYPER</td>\n",
       "      <td>reverseentailment</td>\n",
       "      <td>root | HYPER</td>\n",
       "    </tr>\n",
       "    <tr>\n",
       "      <th>46487</th>\n",
       "      <td>communication</td>\n",
       "      <td>assertion</td>\n",
       "      <td>HYPER</td>\n",
       "      <td>reverseentailment</td>\n",
       "      <td>root | HYPER</td>\n",
       "    </tr>\n",
       "    <tr>\n",
       "      <th>46488</th>\n",
       "      <td>limb</td>\n",
       "      <td>foot</td>\n",
       "      <td>HYPER</td>\n",
       "      <td>reverseentailment</td>\n",
       "      <td>root | HYPER</td>\n",
       "    </tr>\n",
       "  </tbody>\n",
       "</table>\n",
       "<p>46489 rows × 5 columns</p>\n",
       "</div>"
      ],
      "text/plain": [
       "                head            tail relation       relation_new  \\\n",
       "0             bottle         contain    event        independent   \n",
       "1           mackerel          retire   random        independent   \n",
       "2            penguin         inhabit    event        independent   \n",
       "3              spoon  libertarianism   random        independent   \n",
       "4              peach           lemon    coord           disjoint   \n",
       "...              ...             ...      ...                ...   \n",
       "46484        improve            hone    HYPER  reverseentailment   \n",
       "46485            kid            girl    HYPER  reverseentailment   \n",
       "46486         travel           drive    HYPER  reverseentailment   \n",
       "46487  communication       assertion    HYPER  reverseentailment   \n",
       "46488           limb            foot    HYPER  reverseentailment   \n",
       "\n",
       "                 meta  \n",
       "0       bless | event  \n",
       "1      bless | random  \n",
       "2       bless | event  \n",
       "3      bless | random  \n",
       "4       bless | coord  \n",
       "...               ...  \n",
       "46484    root | HYPER  \n",
       "46485    root | HYPER  \n",
       "46486    root | HYPER  \n",
       "46487    root | HYPER  \n",
       "46488    root | HYPER  \n",
       "\n",
       "[46489 rows x 5 columns]"
      ]
     },
     "execution_count": 31,
     "metadata": {},
     "output_type": "execute_result"
    }
   ],
   "source": [
    "train_big"
   ]
  },
  {
   "cell_type": "code",
   "execution_count": null,
   "id": "2b14942d",
   "metadata": {},
   "outputs": [
    {
     "name": "stdout",
     "output_type": "stream",
     "text": [
      "relation_new\n",
      "independent          0.438757\n",
      "disjoint             0.338438\n",
      "forwardentailment    0.086966\n",
      "reverseentailment    0.086902\n",
      "synonym              0.048937\n",
      "Name: proportion, dtype: float64\n",
      "------------------------------\n",
      "relation_new\n",
      "disjoint             0.506061\n",
      "independent          0.290878\n",
      "forwardentailment    0.077370\n",
      "reverseentailment    0.076811\n",
      "synonym              0.048880\n",
      "Name: proportion, dtype: float64\n",
      "------------------------------\n",
      "relation_new\n",
      "independent          0.500000\n",
      "disjoint             0.239563\n",
      "forwardentailment    0.105368\n",
      "reverseentailment    0.105368\n",
      "synonym              0.049702\n",
      "Name: proportion, dtype: float64\n"
     ]
    }
   ],
   "source": [
    "print(train_big[\"relation_new\"].value_counts(normalize=True))\n",
    "print(\"---\" * 10)\n",
    "print(test_big[\"relation_new\"].value_counts(normalize=True))\n",
    "print(\"---\" * 10)\n",
    "print(val_big[\"relation_new\"].value_counts(normalize=True))"
   ]
  },
  {
   "cell_type": "code",
   "execution_count": null,
   "id": "fdf270f7",
   "metadata": {},
   "outputs": [],
   "source": [
    "import warnings\n",
    "warnings.filterwarnings(\"ignore\")"
   ]
  },
  {
   "cell_type": "code",
   "execution_count": null,
   "id": "2ec82d02-2d2f-4428-b288-b6fe2c00b1ec",
   "metadata": {},
   "outputs": [
    {
     "data": {
      "text/plain": [
       "<Axes: >"
      ]
     },
     "execution_count": 33,
     "metadata": {},
     "output_type": "execute_result"
    },
    {
     "data": {
      "image/png": "[encoded data removed]",
      "text/plain": [
       "<Figure size 640x480 with 1 Axes>"
      ]
     },
     "metadata": {},
     "output_type": "display_data"
    }
   ],
   "source": [
    "train_big[\"relation_new\"].hist(xrot=45, bins=11)"
   ]
  },
  {
   "cell_type": "code",
   "execution_count": null,
   "id": "f007ac91",
   "metadata": {},
   "outputs": [
    {
     "data": {
      "text/plain": [
       "<Axes: >"
      ]
     },
     "execution_count": 34,
     "metadata": {},
     "output_type": "execute_result"
    },
    {
     "data": {
      "image/png": "[encoded data removed]",
      "text/plain": [
       "<Figure size 640x480 with 1 Axes>"
      ]
     },
     "metadata": {},
     "output_type": "display_data"
    }
   ],
   "source": [
    "test_big[\"relation_new\"].hist(xrot=45, bins=11)"
   ]
  },
  {
   "cell_type": "code",
   "execution_count": null,
   "id": "025cffac",
   "metadata": {},
   "outputs": [
    {
     "data": {
      "text/plain": [
       "<Axes: >"
      ]
     },
     "execution_count": 35,
     "metadata": {},
     "output_type": "execute_result"
    },
    {
     "data": {
      "image/png": "[encoded data removed]",
      "text/plain": [
       "<Figure size 640x480 with 1 Axes>"
      ]
     },
     "metadata": {},
     "output_type": "display_data"
    }
   ],
   "source": [
    "val_big[\"relation_new\"].hist(xrot=45, bins=11)"
   ]
  },
  {
   "cell_type": "code",
   "execution_count": null,
   "id": "35534296",
   "metadata": {},
   "outputs": [
    {
     "data": {
      "text/html": [
       "<div>\n",
       "<style scoped>\n",
       "    .dataframe tbody tr th:only-of-type {\n",
       "        vertical-align: middle;\n",
       "    }\n",
       "\n",
       "    .dataframe tbody tr th {\n",
       "        vertical-align: top;\n",
       "    }\n",
       "\n",
       "    .dataframe thead th {\n",
       "        text-align: right;\n",
       "    }\n",
       "</style>\n",
       "<table border=\"1\" class=\"dataframe\">\n",
       "  <thead>\n",
       "    <tr style=\"text-align: right;\">\n",
       "      <th></th>\n",
       "      <th>head</th>\n",
       "      <th>tail</th>\n",
       "      <th>relation</th>\n",
       "      <th>relation_new</th>\n",
       "      <th>meta</th>\n",
       "    </tr>\n",
       "  </thead>\n",
       "  <tbody>\n",
       "    <tr>\n",
       "      <th>0</th>\n",
       "      <td>bottle</td>\n",
       "      <td>contain</td>\n",
       "      <td>event</td>\n",
       "      <td>independent</td>\n",
       "      <td>bless | event</td>\n",
       "    </tr>\n",
       "    <tr>\n",
       "      <th>1</th>\n",
       "      <td>mackerel</td>\n",
       "      <td>retire</td>\n",
       "      <td>random</td>\n",
       "      <td>independent</td>\n",
       "      <td>bless | random</td>\n",
       "    </tr>\n",
       "    <tr>\n",
       "      <th>2</th>\n",
       "      <td>penguin</td>\n",
       "      <td>inhabit</td>\n",
       "      <td>event</td>\n",
       "      <td>independent</td>\n",
       "      <td>bless | event</td>\n",
       "    </tr>\n",
       "    <tr>\n",
       "      <th>3</th>\n",
       "      <td>spoon</td>\n",
       "      <td>libertarianism</td>\n",
       "      <td>random</td>\n",
       "      <td>independent</td>\n",
       "      <td>bless | random</td>\n",
       "    </tr>\n",
       "    <tr>\n",
       "      <th>4</th>\n",
       "      <td>peach</td>\n",
       "      <td>lemon</td>\n",
       "      <td>coord</td>\n",
       "      <td>disjoint</td>\n",
       "      <td>bless | coord</td>\n",
       "    </tr>\n",
       "    <tr>\n",
       "      <th>...</th>\n",
       "      <td>...</td>\n",
       "      <td>...</td>\n",
       "      <td>...</td>\n",
       "      <td>...</td>\n",
       "      <td>...</td>\n",
       "    </tr>\n",
       "    <tr>\n",
       "      <th>3123</th>\n",
       "      <td>fun</td>\n",
       "      <td>play</td>\n",
       "      <td>HYPER</td>\n",
       "      <td>reverseentailment</td>\n",
       "      <td>root | HYPER</td>\n",
       "    </tr>\n",
       "    <tr>\n",
       "      <th>3124</th>\n",
       "      <td>needed</td>\n",
       "      <td>indispensable</td>\n",
       "      <td>HYPER</td>\n",
       "      <td>reverseentailment</td>\n",
       "      <td>root | HYPER</td>\n",
       "    </tr>\n",
       "    <tr>\n",
       "      <th>3125</th>\n",
       "      <td>hit</td>\n",
       "      <td>bat</td>\n",
       "      <td>HYPER</td>\n",
       "      <td>reverseentailment</td>\n",
       "      <td>root | HYPER</td>\n",
       "    </tr>\n",
       "    <tr>\n",
       "      <th>3126</th>\n",
       "      <td>cover</td>\n",
       "      <td>jacket</td>\n",
       "      <td>HYPER</td>\n",
       "      <td>reverseentailment</td>\n",
       "      <td>root | HYPER</td>\n",
       "    </tr>\n",
       "    <tr>\n",
       "      <th>3127</th>\n",
       "      <td>shellfish</td>\n",
       "      <td>clam</td>\n",
       "      <td>HYPER</td>\n",
       "      <td>reverseentailment</td>\n",
       "      <td>root | HYPER</td>\n",
       "    </tr>\n",
       "  </tbody>\n",
       "</table>\n",
       "<p>73078 rows × 5 columns</p>\n",
       "</div>"
      ],
      "text/plain": [
       "           head            tail relation       relation_new            meta\n",
       "0        bottle         contain    event        independent   bless | event\n",
       "1      mackerel          retire   random        independent  bless | random\n",
       "2       penguin         inhabit    event        independent   bless | event\n",
       "3         spoon  libertarianism   random        independent  bless | random\n",
       "4         peach           lemon    coord           disjoint   bless | coord\n",
       "...         ...             ...      ...                ...             ...\n",
       "3123        fun            play    HYPER  reverseentailment    root | HYPER\n",
       "3124     needed   indispensable    HYPER  reverseentailment    root | HYPER\n",
       "3125        hit             bat    HYPER  reverseentailment    root | HYPER\n",
       "3126      cover          jacket    HYPER  reverseentailment    root | HYPER\n",
       "3127  shellfish            clam    HYPER  reverseentailment    root | HYPER\n",
       "\n",
       "[73078 rows x 5 columns]"
      ]
     },
     "execution_count": 36,
     "metadata": {},
     "output_type": "execute_result"
    }
   ],
   "source": [
    "merge_all = pd.concat([train_big, test_big, val_big], join=\"outer\")\n",
    "merge_all"
   ]
  },
  {
   "cell_type": "code",
   "execution_count": null,
   "id": "a7884556",
   "metadata": {},
   "outputs": [
    {
     "data": {
      "text/html": [
       "<div>\n",
       "<style scoped>\n",
       "    .dataframe tbody tr th:only-of-type {\n",
       "        vertical-align: middle;\n",
       "    }\n",
       "\n",
       "    .dataframe tbody tr th {\n",
       "        vertical-align: top;\n",
       "    }\n",
       "\n",
       "    .dataframe thead th {\n",
       "        text-align: right;\n",
       "    }\n",
       "</style>\n",
       "<table border=\"1\" class=\"dataframe\">\n",
       "  <thead>\n",
       "    <tr style=\"text-align: right;\">\n",
       "      <th></th>\n",
       "      <th>head</th>\n",
       "      <th>tail</th>\n",
       "      <th>relation</th>\n",
       "      <th>relation_new</th>\n",
       "      <th>meta</th>\n",
       "    </tr>\n",
       "  </thead>\n",
       "  <tbody>\n",
       "    <tr>\n",
       "      <th>0</th>\n",
       "      <td>bottle</td>\n",
       "      <td>contain</td>\n",
       "      <td>event</td>\n",
       "      <td>independent</td>\n",
       "      <td>bless | event</td>\n",
       "    </tr>\n",
       "    <tr>\n",
       "      <th>1</th>\n",
       "      <td>mackerel</td>\n",
       "      <td>retire</td>\n",
       "      <td>random</td>\n",
       "      <td>independent</td>\n",
       "      <td>bless | random</td>\n",
       "    </tr>\n",
       "    <tr>\n",
       "      <th>2</th>\n",
       "      <td>penguin</td>\n",
       "      <td>inhabit</td>\n",
       "      <td>event</td>\n",
       "      <td>independent</td>\n",
       "      <td>bless | event</td>\n",
       "    </tr>\n",
       "    <tr>\n",
       "      <th>3</th>\n",
       "      <td>spoon</td>\n",
       "      <td>libertarianism</td>\n",
       "      <td>random</td>\n",
       "      <td>independent</td>\n",
       "      <td>bless | random</td>\n",
       "    </tr>\n",
       "    <tr>\n",
       "      <th>4</th>\n",
       "      <td>peach</td>\n",
       "      <td>lemon</td>\n",
       "      <td>coord</td>\n",
       "      <td>disjoint</td>\n",
       "      <td>bless | coord</td>\n",
       "    </tr>\n",
       "    <tr>\n",
       "      <th>...</th>\n",
       "      <td>...</td>\n",
       "      <td>...</td>\n",
       "      <td>...</td>\n",
       "      <td>...</td>\n",
       "      <td>...</td>\n",
       "    </tr>\n",
       "    <tr>\n",
       "      <th>71710</th>\n",
       "      <td>fun</td>\n",
       "      <td>play</td>\n",
       "      <td>HYPER</td>\n",
       "      <td>reverseentailment</td>\n",
       "      <td>root | HYPER</td>\n",
       "    </tr>\n",
       "    <tr>\n",
       "      <th>71711</th>\n",
       "      <td>needed</td>\n",
       "      <td>indispensable</td>\n",
       "      <td>HYPER</td>\n",
       "      <td>reverseentailment</td>\n",
       "      <td>root | HYPER</td>\n",
       "    </tr>\n",
       "    <tr>\n",
       "      <th>71712</th>\n",
       "      <td>hit</td>\n",
       "      <td>bat</td>\n",
       "      <td>HYPER</td>\n",
       "      <td>reverseentailment</td>\n",
       "      <td>root | HYPER</td>\n",
       "    </tr>\n",
       "    <tr>\n",
       "      <th>71713</th>\n",
       "      <td>cover</td>\n",
       "      <td>jacket</td>\n",
       "      <td>HYPER</td>\n",
       "      <td>reverseentailment</td>\n",
       "      <td>root | HYPER</td>\n",
       "    </tr>\n",
       "    <tr>\n",
       "      <th>71714</th>\n",
       "      <td>shellfish</td>\n",
       "      <td>clam</td>\n",
       "      <td>HYPER</td>\n",
       "      <td>reverseentailment</td>\n",
       "      <td>root | HYPER</td>\n",
       "    </tr>\n",
       "  </tbody>\n",
       "</table>\n",
       "<p>71715 rows × 5 columns</p>\n",
       "</div>"
      ],
      "text/plain": [
       "            head            tail relation       relation_new            meta\n",
       "0         bottle         contain    event        independent   bless | event\n",
       "1       mackerel          retire   random        independent  bless | random\n",
       "2        penguin         inhabit    event        independent   bless | event\n",
       "3          spoon  libertarianism   random        independent  bless | random\n",
       "4          peach           lemon    coord           disjoint   bless | coord\n",
       "...          ...             ...      ...                ...             ...\n",
       "71710        fun            play    HYPER  reverseentailment    root | HYPER\n",
       "71711     needed   indispensable    HYPER  reverseentailment    root | HYPER\n",
       "71712        hit             bat    HYPER  reverseentailment    root | HYPER\n",
       "71713      cover          jacket    HYPER  reverseentailment    root | HYPER\n",
       "71714  shellfish            clam    HYPER  reverseentailment    root | HYPER\n",
       "\n",
       "[71715 rows x 5 columns]"
      ]
     },
     "execution_count": 37,
     "metadata": {},
     "output_type": "execute_result"
    }
   ],
   "source": [
    "merge_all.drop_duplicates(inplace=True)\n",
    "merge_all.reset_index(drop=True, inplace=True)\n",
    "merge_all"
   ]
  },
  {
   "cell_type": "code",
   "execution_count": null,
   "id": "8144ed16",
   "metadata": {},
   "outputs": [
    {
     "data": {
      "text/plain": [
       "<Axes: >"
      ]
     },
     "execution_count": 38,
     "metadata": {},
     "output_type": "execute_result"
    },
    {
     "data": {
      "image/png": "[encoded data removed]",
      "text/plain": [
       "<Figure size 640x480 with 1 Axes>"
      ]
     },
     "metadata": {},
     "output_type": "display_data"
    }
   ],
   "source": [
    "merge_all[\"relation_new\"].hist(xrot=45, bins=11)"
   ]
  },
  {
   "cell_type": "code",
   "execution_count": null,
   "id": "58653a72",
   "metadata": {},
   "outputs": [
    {
     "data": {
      "text/plain": [
       "relation_new\n",
       "disjoint             0.455985\n",
       "independent          0.276734\n",
       "forwardentailment    0.116391\n",
       "reverseentailment    0.116224\n",
       "synonym              0.034665\n",
       "Name: proportion, dtype: float64"
      ]
     },
     "execution_count": 39,
     "metadata": {},
     "output_type": "execute_result"
    }
   ],
   "source": [
    "merge_all[\"relation_new\"].value_counts(normalize=True)"
   ]
  },
  {
   "cell_type": "code",
   "execution_count": null,
   "id": "5ae84125",
   "metadata": {},
   "outputs": [
    {
     "data": {
      "text/plain": [
       "relation_new\n",
       "disjoint             32701\n",
       "independent          19846\n",
       "forwardentailment     8347\n",
       "reverseentailment     8335\n",
       "synonym               2486\n",
       "Name: count, dtype: int64"
      ]
     },
     "execution_count": 40,
     "metadata": {},
     "output_type": "execute_result"
    }
   ],
   "source": [
    "merge_all[\"relation_new\"].value_counts()"
   ]
  },
  {
   "cell_type": "code",
   "execution_count": null,
   "id": "21e1e421",
   "metadata": {},
   "outputs": [
    {
     "data": {
      "text/plain": [
       "meta\n",
       "cog | RANDOM          14.69\n",
       "khn | hypo            11.44\n",
       "bless | random        11.14\n",
       "khn | false           10.02\n",
       "khn | sibl             8.80\n",
       "bless | coord          6.38\n",
       "root | HYPER           6.38\n",
       "bless | hyper          3.69\n",
       "eval | Antonym         3.65\n",
       "eval | HasProperty     3.47\n",
       "bless | event          3.45\n",
       "bless | mero           2.76\n",
       "bless | attri          2.54\n",
       "eval | Synonym         2.38\n",
       "cog | HYPER            1.75\n",
       "cog | ANT              1.66\n",
       "eval | HasA            1.28\n",
       "eval | PartOf          1.20\n",
       "cog | SYN              1.08\n",
       "cog | PART_OF          1.05\n",
       "eval | MadeOf          0.78\n",
       "khn | mero             0.39\n",
       "Name: proportion, dtype: float64"
      ]
     },
     "execution_count": 43,
     "metadata": {},
     "output_type": "execute_result"
    }
   ],
   "source": [
    "round(merge_all[\"meta\"].value_counts(normalize=True) * 100, 2)"
   ]
  },
  {
   "cell_type": "code",
   "execution_count": null,
   "id": "3ade295b",
   "metadata": {},
   "outputs": [],
   "source": []
  }
 ],
 "metadata": {
  "kernelspec": {
   "display_name": "Python 3 (ipykernel)",
   "language": "python",
   "name": "python3"
  },
  "language_info": {
   "codemirror_mode": {
    "name": "ipython",
    "version": 3
   },
   "file_extension": ".py",
   "mimetype": "text/x-python",
   "name": "python",
   "nbconvert_exporter": "python",
   "pygments_lexer": "ipython3",
   "version": "3.10.12"
  }
 },
 "nbformat": 4,
 "nbformat_minor": 5
}
